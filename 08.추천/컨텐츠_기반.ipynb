{
  "cells": [
    {
      "attachments": {},
      "cell_type": "markdown",
      "metadata": {
        "id": "5FucR5sC-chG"
      },
      "source": [
        "## 컨텐츠 기반 필터링"
      ]
    },
    {
      "attachments": {},
      "cell_type": "markdown",
      "metadata": {
        "id": "QmJpiYwF_PWs"
      },
      "source": []
    },
    {
      "cell_type": "code",
      "execution_count": 1,
      "metadata": {
        "colab": {
          "base_uri": "https://localhost:8080/"
        },
        "id": "8oJWQsWD-Xev",
        "outputId": "1346101b-4a11-4752-b478-2affb25d62c3"
      },
      "outputs": [
        {
          "name": "stdout",
          "output_type": "stream",
          "text": [
            "Looking in indexes: https://pypi.org/simple, https://us-python.pkg.dev/colab-wheels/public/simple/\n",
            "Collecting scikit-surprise\n",
            "  Downloading scikit-surprise-1.1.3.tar.gz (771 kB)\n",
            "\u001b[2K     \u001b[90m━━━━━━━━━━━━━━━━━━━━━━━━━━━━━━━━━━━━━━\u001b[0m \u001b[32m772.0/772.0 kB\u001b[0m \u001b[31m15.4 MB/s\u001b[0m eta \u001b[36m0:00:00\u001b[0m\n",
            "\u001b[?25h  Preparing metadata (setup.py) ... \u001b[?25l\u001b[?25hdone\n",
            "Requirement already satisfied: joblib>=1.0.0 in /usr/local/lib/python3.10/dist-packages (from scikit-surprise) (1.2.0)\n",
            "Requirement already satisfied: numpy>=1.17.3 in /usr/local/lib/python3.10/dist-packages (from scikit-surprise) (1.22.4)\n",
            "Requirement already satisfied: scipy>=1.3.2 in /usr/local/lib/python3.10/dist-packages (from scikit-surprise) (1.10.1)\n",
            "Building wheels for collected packages: scikit-surprise\n",
            "  Building wheel for scikit-surprise (setup.py) ... \u001b[?25l\u001b[?25hdone\n",
            "  Created wheel for scikit-surprise: filename=scikit_surprise-1.1.3-cp310-cp310-linux_x86_64.whl size=3095407 sha256=29f562360512903e284c41fba143be8b5ab4fa09f2403b7d2c5786837a165587\n",
            "  Stored in directory: /root/.cache/pip/wheels/a5/ca/a8/4e28def53797fdc4363ca4af740db15a9c2f1595ebc51fb445\n",
            "Successfully built scikit-surprise\n",
            "Installing collected packages: scikit-surprise\n",
            "Successfully installed scikit-surprise-1.1.3\n"
          ]
        }
      ],
      "source": [
        "# 라이브러리 설치\n",
        "!pip install scikit-surprise"
      ]
    },
    {
      "cell_type": "code",
      "execution_count": 2,
      "metadata": {
        "id": "zttfqcFC-wF4"
      },
      "outputs": [],
      "source": [
        "import numpy as np\n",
        "import pandas as pd\n",
        "from surprise import Dataset"
      ]
    },
    {
      "cell_type": "code",
      "execution_count": 4,
      "metadata": {
        "colab": {
          "base_uri": "https://localhost:8080/",
          "height": 206
        },
        "id": "wDofO3nt_RyW",
        "outputId": "ae03705a-ad4a-4b7c-953d-154fc5cb8490"
      },
      "outputs": [
        {
          "data": {
            "text/html": [
              "\n",
              "  <div id=\"df-c650f239-6c95-4748-8b65-e13b420a4b26\">\n",
              "    <div class=\"colab-df-container\">\n",
              "      <div>\n",
              "<style scoped>\n",
              "    .dataframe tbody tr th:only-of-type {\n",
              "        vertical-align: middle;\n",
              "    }\n",
              "\n",
              "    .dataframe tbody tr th {\n",
              "        vertical-align: top;\n",
              "    }\n",
              "\n",
              "    .dataframe thead th {\n",
              "        text-align: right;\n",
              "    }\n",
              "</style>\n",
              "<table border=\"1\" class=\"dataframe\">\n",
              "  <thead>\n",
              "    <tr style=\"text-align: right;\">\n",
              "      <th></th>\n",
              "      <th>user-id</th>\n",
              "      <th>movie-id</th>\n",
              "      <th>rating</th>\n",
              "      <th>timestamp</th>\n",
              "    </tr>\n",
              "  </thead>\n",
              "  <tbody>\n",
              "    <tr>\n",
              "      <th>0</th>\n",
              "      <td>196</td>\n",
              "      <td>242</td>\n",
              "      <td>3.0</td>\n",
              "      <td>881250949</td>\n",
              "    </tr>\n",
              "    <tr>\n",
              "      <th>1</th>\n",
              "      <td>186</td>\n",
              "      <td>302</td>\n",
              "      <td>3.0</td>\n",
              "      <td>891717742</td>\n",
              "    </tr>\n",
              "    <tr>\n",
              "      <th>2</th>\n",
              "      <td>22</td>\n",
              "      <td>377</td>\n",
              "      <td>1.0</td>\n",
              "      <td>878887116</td>\n",
              "    </tr>\n",
              "    <tr>\n",
              "      <th>3</th>\n",
              "      <td>244</td>\n",
              "      <td>51</td>\n",
              "      <td>2.0</td>\n",
              "      <td>880606923</td>\n",
              "    </tr>\n",
              "    <tr>\n",
              "      <th>4</th>\n",
              "      <td>166</td>\n",
              "      <td>346</td>\n",
              "      <td>1.0</td>\n",
              "      <td>886397596</td>\n",
              "    </tr>\n",
              "  </tbody>\n",
              "</table>\n",
              "</div>\n",
              "      <button class=\"colab-df-convert\" onclick=\"convertToInteractive('df-c650f239-6c95-4748-8b65-e13b420a4b26')\"\n",
              "              title=\"Convert this dataframe to an interactive table.\"\n",
              "              style=\"display:none;\">\n",
              "        \n",
              "  <svg xmlns=\"http://www.w3.org/2000/svg\" height=\"24px\"viewBox=\"0 0 24 24\"\n",
              "       width=\"24px\">\n",
              "    <path d=\"M0 0h24v24H0V0z\" fill=\"none\"/>\n",
              "    <path d=\"M18.56 5.44l.94 2.06.94-2.06 2.06-.94-2.06-.94-.94-2.06-.94 2.06-2.06.94zm-11 1L8.5 8.5l.94-2.06 2.06-.94-2.06-.94L8.5 2.5l-.94 2.06-2.06.94zm10 10l.94 2.06.94-2.06 2.06-.94-2.06-.94-.94-2.06-.94 2.06-2.06.94z\"/><path d=\"M17.41 7.96l-1.37-1.37c-.4-.4-.92-.59-1.43-.59-.52 0-1.04.2-1.43.59L10.3 9.45l-7.72 7.72c-.78.78-.78 2.05 0 2.83L4 21.41c.39.39.9.59 1.41.59.51 0 1.02-.2 1.41-.59l7.78-7.78 2.81-2.81c.8-.78.8-2.07 0-2.86zM5.41 20L4 18.59l7.72-7.72 1.47 1.35L5.41 20z\"/>\n",
              "  </svg>\n",
              "      </button>\n",
              "      \n",
              "  <style>\n",
              "    .colab-df-container {\n",
              "      display:flex;\n",
              "      flex-wrap:wrap;\n",
              "      gap: 12px;\n",
              "    }\n",
              "\n",
              "    .colab-df-convert {\n",
              "      background-color: #E8F0FE;\n",
              "      border: none;\n",
              "      border-radius: 50%;\n",
              "      cursor: pointer;\n",
              "      display: none;\n",
              "      fill: #1967D2;\n",
              "      height: 32px;\n",
              "      padding: 0 0 0 0;\n",
              "      width: 32px;\n",
              "    }\n",
              "\n",
              "    .colab-df-convert:hover {\n",
              "      background-color: #E2EBFA;\n",
              "      box-shadow: 0px 1px 2px rgba(60, 64, 67, 0.3), 0px 1px 3px 1px rgba(60, 64, 67, 0.15);\n",
              "      fill: #174EA6;\n",
              "    }\n",
              "\n",
              "    [theme=dark] .colab-df-convert {\n",
              "      background-color: #3B4455;\n",
              "      fill: #D2E3FC;\n",
              "    }\n",
              "\n",
              "    [theme=dark] .colab-df-convert:hover {\n",
              "      background-color: #434B5C;\n",
              "      box-shadow: 0px 1px 3px 1px rgba(0, 0, 0, 0.15);\n",
              "      filter: drop-shadow(0px 1px 2px rgba(0, 0, 0, 0.3));\n",
              "      fill: #FFFFFF;\n",
              "    }\n",
              "  </style>\n",
              "\n",
              "      <script>\n",
              "        const buttonEl =\n",
              "          document.querySelector('#df-c650f239-6c95-4748-8b65-e13b420a4b26 button.colab-df-convert');\n",
              "        buttonEl.style.display =\n",
              "          google.colab.kernel.accessAllowed ? 'block' : 'none';\n",
              "\n",
              "        async function convertToInteractive(key) {\n",
              "          const element = document.querySelector('#df-c650f239-6c95-4748-8b65-e13b420a4b26');\n",
              "          const dataTable =\n",
              "            await google.colab.kernel.invokeFunction('convertToInteractive',\n",
              "                                                     [key], {});\n",
              "          if (!dataTable) return;\n",
              "\n",
              "          const docLinkHtml = 'Like what you see? Visit the ' +\n",
              "            '<a target=\"_blank\" href=https://colab.research.google.com/notebooks/data_table.ipynb>data table notebook</a>'\n",
              "            + ' to learn more about interactive tables.';\n",
              "          element.innerHTML = '';\n",
              "          dataTable['output_type'] = 'display_data';\n",
              "          await google.colab.output.renderOutput(dataTable, element);\n",
              "          const docLink = document.createElement('div');\n",
              "          docLink.innerHTML = docLinkHtml;\n",
              "          element.appendChild(docLink);\n",
              "        }\n",
              "      </script>\n",
              "    </div>\n",
              "  </div>\n",
              "  "
            ],
            "text/plain": [
              "  user-id movie-id  rating  timestamp\n",
              "0     196      242     3.0  881250949\n",
              "1     186      302     3.0  891717742\n",
              "2      22      377     1.0  878887116\n",
              "3     244       51     2.0  880606923\n",
              "4     166      346     1.0  886397596"
            ]
          },
          "execution_count": 4,
          "metadata": {},
          "output_type": "execute_result"
        }
      ],
      "source": [
        "data = Dataset.load_builtin('ml-100k', prompt=False)\n",
        "df = pd.DataFrame(data.raw_ratings, columns=['user-id','movie-id','rating','timestamp'])\n",
        "df.head()"
      ]
    },
    {
      "cell_type": "code",
      "execution_count": 8,
      "metadata": {
        "colab": {
          "base_uri": "https://localhost:8080/"
        },
        "id": "1c9HlXTi_vB8",
        "outputId": "0f2d9028-84db-43e6-a1b2-a510b3e9176c"
      },
      "outputs": [
        {
          "data": {
            "text/plain": [
              "((100000, 4), 943, 1682)"
            ]
          },
          "execution_count": 8,
          "metadata": {},
          "output_type": "execute_result"
        }
      ],
      "source": [
        "df.shape, df['user-id'].nunique(), df['movie-id'].nunique()"
      ]
    },
    {
      "attachments": {},
      "cell_type": "markdown",
      "metadata": {
        "id": "C2u5agzbAtnk"
      },
      "source": [
        "##### 1. Adjacent Matrix 생성\n",
        "- 행: 사용자 id\n",
        "- 열: 영화 id\n",
        "- 내용: 평점"
      ]
    },
    {
      "cell_type": "code",
      "execution_count": 11,
      "metadata": {
        "colab": {
          "base_uri": "https://localhost:8080/"
        },
        "id": "5zCaC_J6ANkd",
        "outputId": "8426f4b7-2661-4d6e-b96a-f928db8c70ae"
      },
      "outputs": [
        {
          "data": {
            "text/plain": [
              "array([        1,         1,         1, 874724710])"
            ]
          },
          "execution_count": 11,
          "metadata": {},
          "output_type": "execute_result"
        }
      ],
      "source": [
        "raw_data = np.array(data.raw_ratings, dtype=int)\n",
        "np.min(raw_data, axis=0)"
      ]
    },
    {
      "cell_type": "code",
      "execution_count": 13,
      "metadata": {
        "colab": {
          "base_uri": "https://localhost:8080/"
        },
        "id": "wPRnZY-gBTsu",
        "outputId": "0739f8e5-2035-400e-e60a-c9abcff47fda"
      },
      "outputs": [
        {
          "data": {
            "text/plain": [
              "array([[      195,       241,         3, 881250949],\n",
              "       [      185,       301,         3, 891717742],\n",
              "       [       21,       376,         1, 878887116],\n",
              "       [      243,        50,         2, 880606923],\n",
              "       [      165,       345,         1, 886397596]])"
            ]
          },
          "execution_count": 13,
          "metadata": {},
          "output_type": "execute_result"
        }
      ],
      "source": [
        "# user-id, movie-id 가 0부터 시작하도록 만들어 줌\n",
        "raw_data[:, :2 ] -=1\n",
        "raw_data[:5]"
      ]
    },
    {
      "attachments": {},
      "cell_type": "markdown",
      "metadata": {
        "id": "RuxUWBuMCOP9"
      },
      "source": [
        "#### 1) 본 영화/안 본 영화로만 구분, 1/0"
      ]
    },
    {
      "cell_type": "code",
      "execution_count": 20,
      "metadata": {
        "colab": {
          "base_uri": "https://localhost:8080/"
        },
        "id": "Q8SPIxc8B2mc",
        "outputId": "605d4784-f360-4936-eb87-744dabcffccb"
      },
      "outputs": [
        {
          "data": {
            "text/plain": [
              "array([[1, 1, 1, ..., 0, 0, 0],\n",
              "       [1, 0, 0, ..., 0, 0, 0],\n",
              "       [0, 0, 0, ..., 0, 0, 0],\n",
              "       [0, 0, 0, ..., 0, 0, 0],\n",
              "       [1, 1, 0, ..., 0, 0, 0]])"
            ]
          },
          "execution_count": 20,
          "metadata": {},
          "output_type": "execute_result"
        }
      ],
      "source": [
        "nrows = df['user-id'].nunique()\n",
        "ncols = df['movie-id'].nunique()\n",
        "adj_matrix = np.zeros([nrows, ncols], dtype= int)\n",
        "for user_id, movie_id, _, _ in raw_data:\n",
        "  adj_matrix[user_id, movie_id] = 1 \n",
        "adj_matrix[:5]\n"
      ]
    },
    {
      "cell_type": "code",
      "execution_count": 21,
      "metadata": {
        "id": "JpXNoVj8Ck4t"
      },
      "outputs": [],
      "source": [
        "# 0번 데이터를 '나'라고 가정\n",
        "my_id, my_vector = 0, adj_matrix[0]"
      ]
    },
    {
      "cell_type": "code",
      "execution_count": 23,
      "metadata": {
        "colab": {
          "base_uri": "https://localhost:8080/"
        },
        "id": "bbcB-cpdEEZW",
        "outputId": "a6a8856e-9d7f-449c-a1ae-a312f3852dc1"
      },
      "outputs": [
        {
          "data": {
            "text/plain": [
              "(71, 42)"
            ]
          },
          "execution_count": 23,
          "metadata": {},
          "output_type": "execute_result"
        }
      ],
      "source": [
        "# 유사도 - 이진 벡터의 내적\n",
        "# 나와 10, 20번 사용자와의 유사도\n",
        "np.dot(my_vector, adj_matrix[10]), np.dot(my_vector, adj_matrix[20])"
      ]
    },
    {
      "cell_type": "code",
      "execution_count": 24,
      "metadata": {
        "id": "QK4Qf3GUE7x_"
      },
      "outputs": [],
      "source": [
        "# 누가 나랑 가장 닮았나\n",
        "best_score, best_match_id = 0, 0\n"
      ]
    },
    {
      "cell_type": "code",
      "execution_count": 32,
      "metadata": {
        "colab": {
          "base_uri": "https://localhost:8080/"
        },
        "id": "yvpPk_4LGTdN",
        "outputId": "d778db74-08fc-4cd3-bd56-a878934eccf4"
      },
      "outputs": [
        {
          "data": {
            "text/plain": [
              "(183, 275)"
            ]
          },
          "execution_count": 32,
          "metadata": {},
          "output_type": "execute_result"
        }
      ],
      "source": [
        "for i in range(1,len(adj_matrix)):\n",
        "  dot = np.dot(my_vector, adj_matrix[i])\n",
        "  if dot > best_score:\n",
        "    best_score, best_match_id = dot, i\n",
        "best_score, best_match_id"
      ]
    },
    {
      "cell_type": "code",
      "execution_count": 34,
      "metadata": {
        "colab": {
          "base_uri": "https://localhost:8080/"
        },
        "id": "dZNZbqqsIN39",
        "outputId": "35cf179e-01fd-4d84-933c-328c583d7e6e"
      },
      "outputs": [
        {
          "data": {
            "text/plain": [
              "(272, 518)"
            ]
          },
          "execution_count": 34,
          "metadata": {},
          "output_type": "execute_result"
        }
      ],
      "source": [
        "# 내가 본 영화 갯수, 가장 닮은 사람이 본 영화 갯수\n",
        "my_vector.sum(), adj_matrix[best_match_id].sum()"
      ]
    },
    {
      "cell_type": "code",
      "execution_count": 35,
      "metadata": {
        "colab": {
          "base_uri": "https://localhost:8080/"
        },
        "id": "zGw--JQ0IyI1",
        "outputId": "51674391-54e4-4a1e-dc27-94c4b74d0cfa"
      },
      "outputs": [
        {
          "data": {
            "text/plain": [
              "(335, [272, 273, 275, 280, 281, 283, 287, 288, 289, 290])"
            ]
          },
          "execution_count": 35,
          "metadata": {},
          "output_type": "execute_result"
        }
      ],
      "source": [
        "# 내가 보지 않은 영화중에서 가장 닮은 사람이 본 영화 추천\n",
        "recommend_list = []\n",
        "best_vector = adj_matrix[best_match_id]\n",
        "for i in range(len(my_vector)):\n",
        "  if my_vector[i] == 0 and best_vector[i] ==1:\n",
        "    recommend_list.append(i)\n",
        "len(recommend_list), recommend_list[:10]"
      ]
    },
    {
      "attachments": {},
      "cell_type": "markdown",
      "metadata": {
        "id": "xmK6zkvYKRet"
      },
      "source": [
        "2) 평점 점수를 주는 경우"
      ]
    },
    {
      "cell_type": "code",
      "execution_count": 39,
      "metadata": {
        "colab": {
          "base_uri": "https://localhost:8080/"
        },
        "id": "qAs_6UepJ0QA",
        "outputId": "0cfac0ed-fd25-4b64-9a8d-66fecaed9bd3"
      },
      "outputs": [
        {
          "data": {
            "text/plain": [
              "array([[5, 3, 4, ..., 0, 0, 0],\n",
              "       [4, 0, 0, ..., 0, 0, 0],\n",
              "       [0, 0, 0, ..., 0, 0, 0],\n",
              "       [0, 0, 0, ..., 0, 0, 0],\n",
              "       [4, 3, 0, ..., 0, 0, 0]])"
            ]
          },
          "execution_count": 39,
          "metadata": {},
          "output_type": "execute_result"
        }
      ],
      "source": [
        "adj_matrix = np.zeros([nrows, ncols], dtype= int)\n",
        "for user_id, movie_id, rating, _ in raw_data:\n",
        "  adj_matrix[user_id, movie_id] = rating\n",
        "adj_matrix[:5]"
      ]
    },
    {
      "attachments": {},
      "cell_type": "markdown",
      "metadata": {
        "id": "jnZ4TS7vMMBN"
      },
      "source": [
        "- Case 1) 유클리드 거리"
      ]
    },
    {
      "cell_type": "code",
      "execution_count": 44,
      "metadata": {
        "colab": {
          "base_uri": "https://localhost:8080/"
        },
        "id": "MwyE-BGmKjRd",
        "outputId": "99526062-daec-404f-f0bd-980f89e9e5f1"
      },
      "outputs": [
        {
          "data": {
            "text/plain": [
              "(55.06359959174482, 737)"
            ]
          },
          "execution_count": 44,
          "metadata": {},
          "output_type": "execute_result"
        }
      ],
      "source": [
        "\n",
        "# 누가 나랑 가자 '나'와 닮았나\n",
        "best_score, best_match_id = 10000000, 0\n",
        "my_vector = adj_matrix[0]\n",
        "for i in range(1,len(adj_matrix)):\n",
        "  euc = np.sqrt(np.sum(np.square(my_vector - adj_matrix[i])))\n",
        "  if euc < best_score:\n",
        "    best_score, best_match_id = euc, i\n",
        "best_score, best_match_id"
      ]
    },
    {
      "cell_type": "code",
      "execution_count": 47,
      "metadata": {
        "colab": {
          "base_uri": "https://localhost:8080/"
        },
        "id": "Qghn0xxNMKk1",
        "outputId": "f20c19ed-cea5-4f87-cf2e-192537432b65"
      },
      "outputs": [
        {
          "data": {
            "text/plain": [
              "(6, [312, 317, 384, 407, 526, 602])"
            ]
          },
          "execution_count": 47,
          "metadata": {},
          "output_type": "execute_result"
        }
      ],
      "source": [
        "# 내가 보지 않은 영화중에서 가장 닮은 사람이 본 영화중 평점이 4 이상인 영화 추천\n",
        "recommend_list = []\n",
        "best_vector = adj_matrix[best_match_id]\n",
        "for i in range(len(my_vector)):\n",
        "  if my_vector[i] == 0 and best_vector[i] > 4:\n",
        "    recommend_list.append(i)\n",
        "\n",
        "len(recommend_list), recommend_list[:10]"
      ]
    },
    {
      "attachments": {},
      "cell_type": "markdown",
      "metadata": {
        "id": "ihMsPr5DN1LV"
      },
      "source": [
        "- Case 2) 코사인 유사도"
      ]
    },
    {
      "cell_type": "code",
      "execution_count": 48,
      "metadata": {
        "id": "kinh9-YrNF2_"
      },
      "outputs": [],
      "source": [
        "def cos_similarity(v1,v2):\n",
        "  v1_norm = np.sqrt(np.sum(np.square(v1)))\n",
        "  v2_norm = np.sqrt(np.sum(np.square(v2)))\n",
        "  return np.dot(v1, v2) / (v1_norm*v2_norm)"
      ]
    },
    {
      "cell_type": "code",
      "execution_count": 49,
      "metadata": {
        "colab": {
          "base_uri": "https://localhost:8080/"
        },
        "id": "8KaRE6-QOi5Y",
        "outputId": "b8418600-d542-4428-cee0-23b76c9c69c0"
      },
      "outputs": [
        {
          "data": {
            "text/plain": [
              "(-1, 0)"
            ]
          },
          "execution_count": 49,
          "metadata": {},
          "output_type": "execute_result"
        }
      ],
      "source": [
        "best_score, best_match_id = -1, 0\n",
        "\n",
        "for i in range(1, len(adj_matrix)):\n",
        "    sim = cos_similarity(my_vector, adj_matrix[i])\n",
        "    if sim > best_score:\n",
        "        best_score, best_match_id = sim, i\n",
        "\n",
        "best_score, best_match_id"
      ]
    },
    {
      "cell_type": "code",
      "execution_count": 1,
      "metadata": {
        "colab": {
          "base_uri": "https://localhost:8080/"
        },
        "id": "olT-D97NO6mY",
        "outputId": "e233f352-c262-4819-ff2d-38b7850a004b"
      },
      "outputs": [
        {
          "ename": "NameError",
          "evalue": "name 'adj_matrix' is not defined",
          "output_type": "error",
          "traceback": [
            "\u001b[1;31m---------------------------------------------------------------------------\u001b[0m",
            "\u001b[1;31mNameError\u001b[0m                                 Traceback (most recent call last)",
            "Cell \u001b[1;32mIn[1], line 2\u001b[0m\n\u001b[0;32m      1\u001b[0m recommend_list \u001b[39m=\u001b[39m []\n\u001b[1;32m----> 2\u001b[0m best_vector \u001b[39m=\u001b[39m adj_matrix[best_match_id]\n\u001b[0;32m      3\u001b[0m \u001b[39mfor\u001b[39;00m i \u001b[39min\u001b[39;00m \u001b[39mrange\u001b[39m(\u001b[39mlen\u001b[39m(my_vector)):\n\u001b[0;32m      4\u001b[0m     \u001b[39mif\u001b[39;00m my_vector[i] \u001b[39m==\u001b[39m \u001b[39m0\u001b[39m \u001b[39mand\u001b[39;00m best_vector[i] \u001b[39m>\u001b[39m\u001b[39m=\u001b[39m \u001b[39m4\u001b[39m:\n",
            "\u001b[1;31mNameError\u001b[0m: name 'adj_matrix' is not defined"
          ]
        }
      ],
      "source": [
        "recommend_list = []\n",
        "best_vector = adj_matrix[best_match_id]\n",
        "for i in range(len(my_vector)):\n",
        "    if my_vector[i] == 0 and best_vector[i] >= 4:\n",
        "        recommend_list.append(i)\n",
        "                \n",
        "len(recommend_list), recommend_list[:10]\n",
        "     "
      ]
    }
  ],
  "metadata": {
    "colab": {
      "provenance": []
    },
    "kernelspec": {
      "display_name": "Python 3",
      "name": "python3"
    },
    "language_info": {
      "codemirror_mode": {
        "name": "ipython",
        "version": 3
      },
      "file_extension": ".py",
      "mimetype": "text/x-python",
      "name": "python",
      "nbconvert_exporter": "python",
      "pygments_lexer": "ipython3",
      "version": "3.10.9"
    }
  },
  "nbformat": 4,
  "nbformat_minor": 0
}
